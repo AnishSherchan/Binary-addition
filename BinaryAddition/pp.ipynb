{
 "metadata": {
  "language_info": {
   "codemirror_mode": {
    "name": "ipython",
    "version": 3
   },
   "file_extension": ".py",
   "mimetype": "text/x-python",
   "name": "python",
   "nbconvert_exporter": "python",
   "pygments_lexer": "ipython3",
   "version": "3.9.0"
  },
  "orig_nbformat": 4,
  "kernelspec": {
   "name": "python3",
   "display_name": "Python 3.9.0 64-bit"
  },
  "interpreter": {
   "hash": "75fc8621055ab395da2036d603d77f970a970a6156485a7026b10b9d5de8bce7"
  }
 },
 "nbformat": 4,
 "nbformat_minor": 2,
 "cells": [
  {
   "cell_type": "code",
   "execution_count": null,
   "metadata": {},
   "outputs": [],
   "source": []
  },
  {
   "cell_type": "code",
   "execution_count": null,
   "metadata": {},
   "outputs": [],
   "source": []
  },
  {
   "cell_type": "code",
   "execution_count": 1,
   "metadata": {},
   "outputs": [
    {
     "output_type": "stream",
     "name": "stdout",
     "text": [
      "Hello World!\n"
     ]
    }
   ],
   "source": [
    "print(\"Hello World!\")"
   ]
  },
  {
   "cell_type": "code",
   "execution_count": null,
   "metadata": {},
   "outputs": [],
   "source": []
  },
  {
   "cell_type": "code",
   "execution_count": 2,
   "metadata": {},
   "outputs": [
    {
     "output_type": "stream",
     "name": "stdout",
     "text": [
      "1\n"
     ]
    }
   ],
   "source": [
    "A = int(1);\n",
    "print(A)"
   ]
  },
  {
   "cell_type": "code",
   "execution_count": 4,
   "metadata": {},
   "outputs": [
    {
     "output_type": "stream",
     "name": "stdout",
     "text": [
      "1\n2\n3\n4\n5\n"
     ]
    }
   ],
   "source": [
    "for i in range (1,6):\n",
    "    print(i)"
   ]
  },
  {
   "cell_type": "code",
   "execution_count": null,
   "metadata": {},
   "outputs": [],
   "source": [
    "# Odd Number\n"
   ]
  },
  {
   "cell_type": "code",
   "execution_count": null,
   "metadata": {},
   "outputs": [],
   "source": []
  },
  {
   "cell_type": "code",
   "execution_count": 1,
   "metadata": {},
   "outputs": [
    {
     "output_type": "stream",
     "name": "stdout",
     "text": [
      "1  X  2  =  2\n2  X  2  =  4\n3  X  2  =  6\n4  X  2  =  8\n5  X  2  =  10\n6  X  2  =  12\n7  X  2  =  14\n8  X  2  =  16\n9  X  2  =  18\n10  X  2  =  20\n"
     ]
    }
   ],
   "source": [
    "num = int(input(\"Enter any number for generating multiplication taable\"))\n",
    "for i in range (1,11):\n",
    "    print(i,\" X \", num, \" = \", i*num)"
   ]
  },
  {
   "cell_type": "code",
   "execution_count": 4,
   "metadata": {},
   "outputs": [
    {
     "output_type": "stream",
     "name": "stdout",
     "text": [
      "Sum of even numbers:  30\nSum of Odd numbers:  25\n"
     ]
    }
   ],
   "source": [
    "#  Question 1\n",
    "List1 = [1,2,3,4,5,6,7,8,9,10]\n",
    "sumEvem = 0\n",
    "sumOdd = 0\n",
    "for i in range (len(List1)):\n",
    "    if List1[i] % 2 == 0 :\n",
    "        sumEvem = sumEvem +List1[i]\n",
    "    else:\n",
    "        sumOdd = sumOdd + List1[i]\n",
    "print(\"Sum of even numbers: \",sumEvem)\n",
    "print(\"Sum of Odd numbers: \",sumOdd)\n",
    "\n"
   ]
  },
  {
   "cell_type": "code",
   "execution_count": 54,
   "metadata": {},
   "outputs": [
    {
     "output_type": "stream",
     "name": "stdout",
     "text": [
      "101\n-2\n"
     ]
    }
   ],
   "source": [
    "# Question 2\n",
    "list2 = [101,22,33,55,2,-1,-2]\n",
    "highest = 0\n",
    "lowest = 0\n",
    "for i in range (len(list2)):\n",
    "    for j in range (len(list2)):\n",
    "        if highest<list2[j]:\n",
    "            highest = list2[j]\n",
    "        if list2[i] > list2[j]:\n",
    "            lowest = list2[j]\n",
    "\n",
    "print(highest)\n",
    "print(lowest)"
   ]
  },
  {
   "cell_type": "code",
   "execution_count": 58,
   "metadata": {},
   "outputs": [
    {
     "output_type": "stream",
     "name": "stdout",
     "text": [
      "[1, 1, 2, 3, 5, 8, 13, 21, 34, 55]\n"
     ]
    }
   ],
   "source": [
    "#  Series 1,1,2,3,5,8,13,21 Question 3\n",
    "firstNum = 1\n",
    "secondNum = 1\n",
    "third = 0\n",
    "n = int(input(\"Enter n Number : \"))\n",
    "Serier = [1,1]\n",
    "for i in range (n-2):\n",
    "    third = firstNum + secondNum\n",
    "    Serier.append(third)\n",
    "    firstNum = secondNum\n",
    "    secondNum = third\n",
    "print(Serier)"
   ]
  },
  {
   "cell_type": "code",
   "execution_count": 61,
   "metadata": {},
   "outputs": [
    {
     "output_type": "stream",
     "name": "stdout",
     "text": [
      "[1, 2, 3, 4, 5, 6]\n"
     ]
    }
   ],
   "source": [
    "# Question 4\n",
    "NUniq = [1, 1, 2, 3, 3, 4, 4, 5, 6, 5, 6]\n",
    "Uniq = []\n",
    "for i in NUniq:\n",
    "    if i not in Uniq:\n",
    "        Uniq.append(i)\n",
    "print(Uniq)\n",
    "\n"
   ]
  },
  {
   "cell_type": "code",
   "execution_count": 69,
   "metadata": {},
   "outputs": [
    {
     "output_type": "stream",
     "name": "stdout",
     "text": [
      "[6, 5, 4, 3, 2, 1]\n"
     ]
    }
   ],
   "source": [
    "# Question 5\n",
    "NoRev = [1, 2, 3, 4, 5, 6]\n",
    "Rev = []\n",
    "for i in range(len(NoRev)-1,-1,-1):\n",
    "    Rev.append(NoRev[i])\n",
    "print(Rev)"
   ]
  },
  {
   "cell_type": "code",
   "execution_count": 77,
   "metadata": {},
   "outputs": [
    {
     "output_type": "stream",
     "name": "stdout",
     "text": [
      "numbers divisible by 2 and 3 are [6, 12, 18, 24]\n"
     ]
    }
   ],
   "source": [
    "# Question 6\n",
    "a = [2, 3, 6, 8, 9, 12, 15, 18, 24, 22, 33, 112]\n",
    "b = []\n",
    "for i in range (len(a)):\n",
    "    if a[i] % 2 ==0 and a[i] % 3 == 0:\n",
    "        b.append(a[i])\n",
    "print(\"numbers divisible by 2 and 3 are\",b\n",
    ")"
   ]
  },
  {
   "cell_type": "code",
   "execution_count": 87,
   "metadata": {},
   "outputs": [
    {
     "output_type": "stream",
     "name": "stdout",
     "text": [
      "['a', 'b', 'c'] , [1, 2, 3] -> ['a', 1, 'b', 2, 'c', 3]\n"
     ]
    }
   ],
   "source": [
    "# [‘a’, ‘b’, ‘c’], [1, 2, 3] -> [‘a’, 1, ‘b’, 2, ‘c’, 3] Question 7\n",
    "a = ['a', 'b', 'c']\n",
    "b = [1, 2, 3]\n",
    "c = []\n",
    "if len(a) == len(b):    \n",
    "    for i in range(len(a)):\n",
    "        c.append(a[i])\n",
    "        c.append(b[i])\n",
    "print(a,\",\",b,\"->\",c)"
   ]
  },
  {
   "cell_type": "code",
   "execution_count": 88,
   "metadata": {},
   "outputs": [
    {
     "output_type": "stream",
     "name": "stdout",
     "text": [
      "[1, 2, 3, 4, 5, 6] , [1, 2, 3, 4, 5, 6] -> [2, 4, 6, 8, 10, 12]\n"
     ]
    }
   ],
   "source": [
    "# [1, 2, 3, 4, 5, 6] + [1, 2, 3, 4, 5, 6] -> [2, 4, 6, 8, 10, 12]\n",
    "a = [1, 2, 3, 4, 5, 6] \n",
    "b = [1, 2, 3, 4, 5, 6]\n",
    "c = []\n",
    "if len(a) == len(b):\n",
    "    for i in range(len(a)):\n",
    "        c.append(a[i]+b[i])\n",
    "print(a,\",\",b,\"->\",c)"
   ]
  },
  {
   "cell_type": "code",
   "execution_count": 110,
   "metadata": {},
   "outputs": [
    {
     "output_type": "stream",
     "name": "stdout",
     "text": [
      "Sum of diagonal 12\nThe upper sum 13\nThe Lower sum 14\nSum of all rows 39\nThe column sum of the given matrix 16\n"
     ]
    }
   ],
   "source": [
    "# Question 9\n",
    "A = [[2,3,4],[1,5,6],[5,8,5]]\n",
    "diSum = 0\n",
    "# sum of Diagonal elements \n",
    "for i in range(len(A)):\n",
    "    j = i\n",
    "    for j in range(len(A)):\n",
    "        if i == j:\n",
    "            diSum = diSum + A[i][j]\n",
    "print(\"Sum of diagonal\",diSum)\n",
    "# Sum of above and below\n",
    "UpSum = 0\n",
    "LwSum = 0\n",
    "for i in range(len(A)):\n",
    "    for j in range(len(A)):\n",
    "        if j > i:\n",
    "            UpSum = UpSum + A[i][j]\n",
    "        if j < i:\n",
    "            LwSum = LwSum + A[i][j]\n",
    "print(\"The upper sum\", UpSum)\n",
    "print(\"The Lower sum\", LwSum)\n",
    "# Sum of all num in row of matrix\n",
    "rowsSum = 0\n",
    "for i in range(len(A)):\n",
    "    for j in range(len(A)):\n",
    "        rowsSum = rowsSum + A[i][j]\n",
    "print(\"Sum of all rows\",rowsSum)\n",
    "# Colum sum \n",
    "colsum = 0\n",
    "for i in range(len(A)):\n",
    "    j = 1\n",
    "    colsum = colsum + A[i][j]\n",
    "print(\"The column sum of the given matrix\",colsum)"
   ]
  },
  {
   "cell_type": "code",
   "execution_count": 90,
   "metadata": {},
   "outputs": [],
   "source": []
  }
 ]
}